{
 "cells": [
  {
   "cell_type": "markdown",
   "metadata": {},
   "source": [
    "## Part 1"
   ]
  },
  {
   "cell_type": "code",
   "execution_count": 45,
   "metadata": {},
   "outputs": [
    {
     "name": "stdout",
     "output_type": "stream",
     "text": [
      "7446\n"
     ]
    }
   ],
   "source": [
    "import math\n",
    "\n",
    "values = \"abcdefghijklmnopqrstuvwxyzABCDEFGHIJKLMNOPQRSTUVWXYZ\"\n",
    "lines = open(\"../inputs/input-2022-3.txt\").read().split(\"\\n\")\n",
    "totalSum = 0;  \n",
    "lineN = 0\n",
    "for line in lines:\n",
    "    halfIndex = int(len(line) / 2)\n",
    "    firstHalf = line[0:halfIndex]\n",
    "    secondHalf = line[halfIndex:len(line)]\n",
    "    for char in firstHalf:\n",
    "        found = secondHalf.find(char)\n",
    "        if (found > -1):\n",
    "            totalSum = totalSum + values.find(char) + 1\n",
    "            break\n",
    "\n",
    "print(totalSum)\n"
   ]
  },
  {
   "cell_type": "markdown",
   "metadata": {},
   "source": [
    "## Part 2"
   ]
  },
  {
   "cell_type": "code",
   "execution_count": 61,
   "metadata": {},
   "outputs": [
    {
     "name": "stdout",
     "output_type": "stream",
     "text": [
      "2646\n"
     ]
    }
   ],
   "source": [
    "import math\n",
    "\n",
    "values = \"abcdefghijklmnopqrstuvwxyzABCDEFGHIJKLMNOPQRSTUVWXYZ\"\n",
    "lines = open(\"../inputs/input-2022-3.txt\").read().split(\"\\n\")\n",
    "totalSum = 0;  \n",
    "groupN = 0\n",
    "for groupI in range(int(len(lines) / 3)):\n",
    "    groupLines = lines[groupI * 3:groupI *3 + 3]\n",
    "    groupN = groupN + 1\n",
    "    for char in groupLines[0]:\n",
    "        found1 = groupLines[1].find(char)\n",
    "        found2 = groupLines[2].find(char)\n",
    "        if ((found1 > -1) & (found2 > -1)):\n",
    "            totalSum = totalSum + values.find(char) + 1\n",
    "            break\n",
    "\n",
    "print(totalSum)"
   ]
  }
 ],
 "metadata": {
  "kernelspec": {
   "display_name": "Python 3.10.8 64-bit",
   "language": "python",
   "name": "python3"
  },
  "language_info": {
   "codemirror_mode": {
    "name": "ipython",
    "version": 3
   },
   "file_extension": ".py",
   "mimetype": "text/x-python",
   "name": "python",
   "nbconvert_exporter": "python",
   "pygments_lexer": "ipython3",
   "version": "3.10.8"
  },
  "orig_nbformat": 4,
  "vscode": {
   "interpreter": {
    "hash": "b0fa6594d8f4cbf19f97940f81e996739fb7646882a419484c72d19e05852a7e"
   }
  }
 },
 "nbformat": 4,
 "nbformat_minor": 2
}
