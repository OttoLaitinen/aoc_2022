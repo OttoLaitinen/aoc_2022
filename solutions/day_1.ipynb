{
 "cells": [
  {
   "cell_type": "markdown",
   "metadata": {},
   "source": [
    "## Part 1"
   ]
  },
  {
   "cell_type": "code",
   "execution_count": 8,
   "metadata": {},
   "outputs": [
    {
     "name": "stdout",
     "output_type": "stream",
     "text": [
      "69912\n"
     ]
    }
   ],
   "source": [
    "largest = 0\n",
    "\n",
    "with open(\"../inputs/input-2022-1.txt\") as f:\n",
    "    currentSum = 0\n",
    "    for line in f:\n",
    "        if line == \"\\n\": \n",
    "            if currentSum > largest:\n",
    "                largest = currentSum\n",
    "            currentSum = 0\n",
    "        else:\n",
    "            currentSum = currentSum + int(line)\n",
    "\n",
    "print(largest)\n"
   ]
  },
  {
   "cell_type": "markdown",
   "metadata": {},
   "source": [
    "## Part 2\n",
    "\n",
    "\n"
   ]
  },
  {
   "cell_type": "code",
   "execution_count": 18,
   "metadata": {},
   "outputs": [
    {
     "name": "stdout",
     "output_type": "stream",
     "text": [
      "208180\n"
     ]
    }
   ],
   "source": [
    "storage = []\n",
    "\n",
    "with open(\"../inputs/input-2022-1.txt\") as f:\n",
    "    currentSum = 0\n",
    "    for line in f:\n",
    "        if line == \"\\n\": \n",
    "            storage.append(currentSum)\n",
    "            currentSum = 0\n",
    "        else:\n",
    "            currentSum = currentSum + int(line)\n",
    "\n",
    "storage.sort(reverse=True)\n",
    "top3Sum = sum(storage[0:3])\n",
    "print(top3Sum)"
   ]
  },
  {
   "cell_type": "markdown",
   "metadata": {},
   "source": []
  }
 ],
 "metadata": {
  "kernelspec": {
   "display_name": "Python 3.10.8 64-bit",
   "language": "python",
   "name": "python3"
  },
  "language_info": {
   "codemirror_mode": {
    "name": "ipython",
    "version": 3
   },
   "file_extension": ".py",
   "mimetype": "text/x-python",
   "name": "python",
   "nbconvert_exporter": "python",
   "pygments_lexer": "ipython3",
   "version": "3.10.8"
  },
  "orig_nbformat": 4,
  "vscode": {
   "interpreter": {
    "hash": "b0fa6594d8f4cbf19f97940f81e996739fb7646882a419484c72d19e05852a7e"
   }
  }
 },
 "nbformat": 4,
 "nbformat_minor": 2
}
