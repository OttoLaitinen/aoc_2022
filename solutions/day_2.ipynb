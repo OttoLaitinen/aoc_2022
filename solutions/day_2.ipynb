{
 "cells": [
  {
   "cell_type": "markdown",
   "metadata": {},
   "source": [
    "## Part 1\n"
   ]
  },
  {
   "cell_type": "code",
   "execution_count": 9,
   "metadata": {},
   "outputs": [
    {
     "name": "stdout",
     "output_type": "stream",
     "text": [
      "15\n"
     ]
    }
   ],
   "source": [
    "score = {\"A X\\n\": 4, \"A Y\\n\": 8, \"A Z\\n\": 3, \n",
    "        \"B X\\n\": 1, \"B Y\\n\": 5, \"B Z\\n\": 9, \n",
    "        \"C X\\n\": 7, \"C Y\\n\": 2, \"C Z\\n\": 6\n",
    "         }\n",
    "totalSum = 0\n",
    "with open(\"../inputs/input-2022-2.txt\") as f:\n",
    "    \n",
    "    for line in f:\n",
    "        totalSum = totalSum + score[line]\n",
    "\n",
    "print(totalSum)"
   ]
  },
  {
   "cell_type": "markdown",
   "metadata": {},
   "source": [
    "## Part 2"
   ]
  },
  {
   "cell_type": "code",
   "execution_count": 10,
   "metadata": {},
   "outputs": [
    {
     "name": "stdout",
     "output_type": "stream",
     "text": [
      "14652\n"
     ]
    }
   ],
   "source": [
    "score2 = {\"A X\\n\": 3, \"A Y\\n\": 4, \"A Z\\n\": 8, \n",
    "         \"B X\\n\": 1, \"B Y\\n\": 5, \"B Z\\n\": 9, \n",
    "         \"C X\\n\": 2, \"C Y\\n\": 6, \"C Z\\n\": 7\n",
    "         }\n",
    "totalSum = 0\n",
    "with open(\"../inputs/input-2022-2.txt\") as f:\n",
    "    \n",
    "    for line in f:\n",
    "        totalSum = totalSum + score2[line]\n",
    "\n",
    "print(totalSum)"
   ]
  }
 ],
 "metadata": {
  "kernelspec": {
   "display_name": "Python 3.10.8 64-bit",
   "language": "python",
   "name": "python3"
  },
  "language_info": {
   "codemirror_mode": {
    "name": "ipython",
    "version": 3
   },
   "file_extension": ".py",
   "mimetype": "text/x-python",
   "name": "python",
   "nbconvert_exporter": "python",
   "pygments_lexer": "ipython3",
   "version": "3.10.8"
  },
  "orig_nbformat": 4,
  "vscode": {
   "interpreter": {
    "hash": "b0fa6594d8f4cbf19f97940f81e996739fb7646882a419484c72d19e05852a7e"
   }
  }
 },
 "nbformat": 4,
 "nbformat_minor": 2
}
