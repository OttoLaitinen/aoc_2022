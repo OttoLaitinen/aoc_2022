{
 "cells": [
  {
   "cell_type": "markdown",
   "metadata": {},
   "source": [
    "## Part 1"
   ]
  },
  {
   "cell_type": "code",
   "execution_count": 42,
   "metadata": {},
   "outputs": [
    {
     "name": "stdout",
     "output_type": "stream",
     "text": [
      "471\n"
     ]
    }
   ],
   "source": [
    "\n",
    "lines = open(\"../inputs/input-2022-4.txt\").read().split(\"\\n\")\n",
    "\n",
    "lines = list(map(lambda line: line.split(\",\"), lines))\n",
    "lines = list(map(lambda line: [line[0].split(\"-\"), line[1].split(\"-\")], lines))\n",
    "\n",
    "\n",
    "totalSum = 0\n",
    "\n",
    "for line in lines:\n",
    "    # print(line)\n",
    "    s_1_s = int(line[0][0])\n",
    "    s_1_e = int(line[0][1])\n",
    "\n",
    "    s_2_s = int(line[1][0])\n",
    "    s_2_e = int(line[1][1])\n",
    "\n",
    "    # print(\"1: \", s_1_s, s_1_e, \"2: \", s_2_s, s_2_e)\n",
    "\n",
    "\n",
    "    if ((s_1_s >= s_2_s) & (s_1_e <= s_2_e)):\n",
    "        totalSum = totalSum + 1\n",
    "    elif ((s_1_s <= s_2_s) & (s_1_e >= s_2_e)):\n",
    "        totalSum = totalSum + 1\n",
    "\n",
    "print(totalSum)\n"
   ]
  },
  {
   "cell_type": "markdown",
   "metadata": {},
   "source": [
    "## Part 2\n"
   ]
  },
  {
   "cell_type": "code",
   "execution_count": 59,
   "metadata": {},
   "outputs": [
    {
     "name": "stdout",
     "output_type": "stream",
     "text": [
      "888\n"
     ]
    }
   ],
   "source": [
    "lines = open(\"../inputs/input-2022-4.txt\").read().split(\"\\n\")\n",
    "\n",
    "lines = list(map(lambda line: line.split(\",\"), lines))\n",
    "lines = list(map(lambda line: [line[0].split(\"-\"), line[1].split(\"-\")], lines))\n",
    "\n",
    "\n",
    "totalSum = 0\n",
    "\n",
    "for line in lines:\n",
    "    s_1_s = int(line[0][0])\n",
    "    s_1_e = int(line[0][1])\n",
    "    s_2_s = int(line[1][0])\n",
    "    s_2_e = int(line[1][1])\n",
    "\n",
    "    set1 = set(range(s_1_s, s_1_e + 1))\n",
    "    set2 = set(range(s_2_s, s_2_e + 1))\n",
    "\n",
    "    intersection1 = set1.intersection(set2)\n",
    "    # print(set1, set2, len(intersection1))\n",
    "\n",
    "    if (len(intersection1) > 0):\n",
    "        totalSum = totalSum + 1\n",
    "\n",
    "print(totalSum)"
   ]
  }
 ],
 "metadata": {
  "kernelspec": {
   "display_name": "Python 3.10.8 64-bit",
   "language": "python",
   "name": "python3"
  },
  "language_info": {
   "codemirror_mode": {
    "name": "ipython",
    "version": 3
   },
   "file_extension": ".py",
   "mimetype": "text/x-python",
   "name": "python",
   "nbconvert_exporter": "python",
   "pygments_lexer": "ipython3",
   "version": "3.10.8"
  },
  "orig_nbformat": 4,
  "vscode": {
   "interpreter": {
    "hash": "b0fa6594d8f4cbf19f97940f81e996739fb7646882a419484c72d19e05852a7e"
   }
  }
 },
 "nbformat": 4,
 "nbformat_minor": 2
}
